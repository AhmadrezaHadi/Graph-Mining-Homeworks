{
 "cells": [
  {
   "cell_type": "markdown",
   "id": "92b1f8c4-0868-4ad8-97d1-6059e89000c4",
   "metadata": {},
   "source": [
    "# Pagerank with Power Iteration"
   ]
  },
  {
   "cell_type": "code",
   "execution_count": 1,
   "id": "c9ee322e-9cf7-4494-be2a-f920dfa7fafe",
   "metadata": {},
   "outputs": [],
   "source": [
    "import numpy as np\n",
    "import networkx as nx"
   ]
  },
  {
   "cell_type": "code",
   "execution_count": 2,
   "id": "8f532a72-087e-4e48-a44e-932ecf946e1c",
   "metadata": {},
   "outputs": [],
   "source": [
    "G = nx.read_edgelist(\"soc-wiki-vote.txt\", create_using=nx.DiGraph(), nodetype=int)"
   ]
  },
  {
   "cell_type": "code",
   "execution_count": 3,
   "id": "c8e93a87-0540-4289-8175-d56ca7f0bab9",
   "metadata": {},
   "outputs": [
    {
     "data": {
      "text/plain": [
       "'DiGraph with 889 nodes and 2914 edges'"
      ]
     },
     "execution_count": 3,
     "metadata": {},
     "output_type": "execute_result"
    }
   ],
   "source": [
    "nx.info(G)"
   ]
  },
  {
   "cell_type": "code",
   "execution_count": 4,
   "id": "5f8c1697-0448-422c-9e3a-0459ba41f12d",
   "metadata": {},
   "outputs": [],
   "source": [
    "adj_matrix = nx.adjacency_matrix(G, nodelist=[i for i in range(1, len(G)+1)]).toarray().T.astype('float64')"
   ]
  },
  {
   "cell_type": "code",
   "execution_count": 5,
   "id": "92bdcb74-441b-45c2-a21f-3bdcf3bf4da8",
   "metadata": {},
   "outputs": [],
   "source": [
    "def page_rank(adj_matrix, beta, epsilon=1e-7, max_iter = None):\n",
    "    for index, s in enumerate(adj_matrix.sum(axis=0)):\n",
    "        if s == 0:\n",
    "            adj_matrix[:,index] += 1/adj_matrix.shape[0]\n",
    "    \n",
    "    adj_matrix /= adj_matrix.sum(axis=0)\n",
    "    G_m = beta * adj_matrix + (1-beta) * (np.zeros_like(adj_matrix) + 1/adj_matrix.shape[0])\n",
    "    # G_m = nx.google_matrix(G, nodelist=[i for i in range(1, len(G)+1)])\n",
    "    # r = np.dot(G_m, prev_r)\n",
    "    if max_iter is not None:\n",
    "        r = np.zeros((adj_matrix.shape[0],1)) + 1/adj_matrix.shape[0]\n",
    "        for _ in range(max_iter):\n",
    "            r = np.dot(G_m, r)\n",
    "    else:\n",
    "        prev_r = np.zeros((adj_matrix.shape[0],1)) + 1/adj_matrix.shape[0]\n",
    "        while True:\n",
    "            r = np.dot(G_m, prev_r)\n",
    "            if np.abs(np.mean(r-prev_r)) < 1e-7:\n",
    "                break\n",
    "            prev_r = r\n",
    "    \n",
    "    return r"
   ]
  },
  {
   "cell_type": "code",
   "execution_count": 12,
   "id": "9afee630-8ab1-4bea-836a-20395c58a5fc",
   "metadata": {},
   "outputs": [
    {
     "name": "stdout",
     "output_type": "stream",
     "text": [
      "for node 590 with beta 0.1:\n",
      "calculated pagerank: 0.001028267932590529\n",
      "networkx pagerank: 0.0010282657922602878\n",
      "---------------------------\n",
      "for node 9 with beta 0.2:\n",
      "calculated pagerank: 0.0020748297055258173\n",
      "networkx pagerank: 0.002074390776615496\n",
      "---------------------------\n",
      "for node 504 with beta 0.30000000000000004:\n",
      "calculated pagerank: 0.0013247301453651592\n",
      "networkx pagerank: 0.0013247789374628985\n",
      "---------------------------\n",
      "for node 844 with beta 0.4:\n",
      "calculated pagerank: 0.0007421521626642648\n",
      "networkx pagerank: 0.0007421304921697619\n",
      "---------------------------\n",
      "for node 444 with beta 0.5:\n",
      "calculated pagerank: 0.0008117628776155386\n",
      "networkx pagerank: 0.000811721273314265\n",
      "---------------------------\n",
      "for node 401 with beta 0.6:\n",
      "calculated pagerank: 0.0009200539315825478\n",
      "networkx pagerank: 0.0009200409167019817\n",
      "---------------------------\n",
      "for node 480 with beta 0.7000000000000001:\n",
      "calculated pagerank: 0.0004713857536498386\n",
      "networkx pagerank: 0.00047136716897596624\n",
      "---------------------------\n",
      "for node 720 with beta 0.8:\n",
      "calculated pagerank: 0.00038778271012381374\n",
      "networkx pagerank: 0.00038779406638360164\n",
      "---------------------------\n",
      "for node 466 with beta 0.9:\n",
      "calculated pagerank: 0.0009023775245805588\n",
      "networkx pagerank: 0.0009021167539092832\n",
      "---------------------------\n"
     ]
    }
   ],
   "source": [
    "for b in np.arange(0.1, 1, 0.1):\n",
    "    \n",
    "    rank = page_rank(adj_matrix, beta=b, max_iter=100)\n",
    "    nx_rank = nx.pagerank(G, alpha=b)\n",
    "    node = np.random.randint(1, len(G)+1)\n",
    "    \n",
    "    print(f\"for node {node} with beta {b}:\")\n",
    "    print(f\"calculated pagerank: {rank[node-1].item()}\")\n",
    "    print(f\"networkx pagerank: {nx_rank[node]}\")\n",
    "    print(\"---------------------------\")"
   ]
  }
 ],
 "metadata": {
  "kernelspec": {
   "display_name": "Python 3 (ipykernel)",
   "language": "python",
   "name": "python3"
  },
  "language_info": {
   "codemirror_mode": {
    "name": "ipython",
    "version": 3
   },
   "file_extension": ".py",
   "mimetype": "text/x-python",
   "name": "python",
   "nbconvert_exporter": "python",
   "pygments_lexer": "ipython3",
   "version": "3.9.7"
  }
 },
 "nbformat": 4,
 "nbformat_minor": 5
}
