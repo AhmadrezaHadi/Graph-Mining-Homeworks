{
 "cells": [
  {
   "cell_type": "code",
   "execution_count": 1,
   "id": "7760abd0-bfeb-491d-8691-1b3daa38fc31",
   "metadata": {},
   "outputs": [],
   "source": [
    "import networkx as nx\n",
    "import numpy as np\n",
    "from sympy import symbols, Matrix, solve"
   ]
  },
  {
   "cell_type": "markdown",
   "id": "f0858a1d-8045-41ff-9526-af28e4acf2c4",
   "metadata": {
    "tags": []
   },
   "source": [
    "# First Question:\n",
    "Consider graph below: <br>\n",
    "<img src=\"images/1.png\" alt=\"drawing\" width=\"300\"/> <br>\n"
   ]
  },
  {
   "cell_type": "code",
   "execution_count": 2,
   "id": "ea0fa424-07c1-4e2b-811c-f7abbac9e15a",
   "metadata": {},
   "outputs": [
    {
     "data": {
      "text/plain": [
       "2.0"
      ]
     },
     "execution_count": 2,
     "metadata": {},
     "output_type": "execute_result"
    },
    {
     "data": {
      "image/png": "[encoded data removed]",
      "text/plain": [
       "<Figure size 432x288 with 1 Axes>"
      ]
     },
     "metadata": {},
     "output_type": "display_data"
    }
   ],
   "source": [
    "G = nx.Graph()\n",
    "G.add_nodes_from([i for i in range(1,8)])\n",
    "G.add_edges_from([(1,2), (2,3), (3,6), (2,5), (1,7), (1,4), (4,7), (6,7), (5,7), (5,6)])\n",
    "nx.draw(G, with_labels=True)\n",
    "number_of_triangles = sum(nx.triangles(G).values()) / 3\n",
    "number_of_triangles\n"
   ]
  },
  {
   "cell_type": "markdown",
   "id": "1bfa4922-240b-492b-835a-5a7533d4c082",
   "metadata": {},
   "source": [
    "## A) Find adjacency matrix of graph:"
   ]
  },
  {
   "cell_type": "code",
   "execution_count": 3,
   "id": "6fac8989-7282-4406-a409-20dbabbadea0",
   "metadata": {},
   "outputs": [
    {
     "data": {
      "text/latex": [
       "$\\displaystyle \\left[\\begin{matrix}0 & 1 & 0 & 1 & 0 & 0 & 1\\\\1 & 0 & 1 & 0 & 1 & 0 & 0\\\\0 & 1 & 0 & 0 & 0 & 1 & 0\\\\1 & 0 & 0 & 0 & 0 & 0 & 1\\\\0 & 1 & 0 & 0 & 0 & 1 & 1\\\\0 & 0 & 1 & 0 & 1 & 0 & 1\\\\1 & 0 & 0 & 1 & 1 & 1 & 0\\end{matrix}\\right]$"
      ],
      "text/plain": [
       "Matrix([\n",
       "[0, 1, 0, 1, 0, 0, 1],\n",
       "[1, 0, 1, 0, 1, 0, 0],\n",
       "[0, 1, 0, 0, 0, 1, 0],\n",
       "[1, 0, 0, 0, 0, 0, 1],\n",
       "[0, 1, 0, 0, 0, 1, 1],\n",
       "[0, 0, 1, 0, 1, 0, 1],\n",
       "[1, 0, 0, 1, 1, 1, 0]])"
      ]
     },
     "execution_count": 3,
     "metadata": {},
     "output_type": "execute_result"
    }
   ],
   "source": [
    "A = nx.adjacency_matrix(G).todense()\n",
    "Matrix(A)"
   ]
  },
  {
   "cell_type": "markdown",
   "id": "b3e75659-a51d-41fb-b1f8-4d4228ba7d46",
   "metadata": {
    "tags": []
   },
   "source": [
    "## B) Find eigenvalues and eigenvectors corresponding to adjacency matrix:"
   ]
  },
  {
   "cell_type": "code",
   "execution_count": 4,
   "id": "e57a1115-0928-4424-ac3a-312341d39249",
   "metadata": {},
   "outputs": [
    {
     "data": {
      "text/latex": [
       "$\\displaystyle - 1.0 L^{7} + 10.0 L^{5} + 4.0 L^{4} - 21.0 L^{3} - 6.0 L^{2} + 11.0 L$"
      ],
      "text/plain": [
       "-1.0*L**7 + 10.0*L**5 + 4.0*L**4 - 21.0*L**3 - 6.0*L**2 + 11.0*L"
      ]
     },
     "execution_count": 4,
     "metadata": {},
     "output_type": "execute_result"
    }
   ],
   "source": [
    "Lambda, = symbols(['L'])\n",
    "I = np.identity(7)\n",
    "B = Matrix(A - Lambda*I)\n",
    "B.det()"
   ]
  },
  {
   "cell_type": "code",
   "execution_count": 5,
   "id": "c3086f13-31d0-4ca9-ae21-68fa803c69c9",
   "metadata": {},
   "outputs": [
    {
     "data": {
      "text/plain": [
       "[-2.22736831208456,\n",
       " -1.67822270590098,\n",
       " -1.07702191696139,\n",
       " 0.0,\n",
       " 0.709916061304175,\n",
       " 1.29063198286390,\n",
       " 2.98206489077886]"
      ]
     },
     "execution_count": 5,
     "metadata": {},
     "output_type": "execute_result"
    }
   ],
   "source": [
    "eigenvalues = solve(B.det())\n",
    "eigenvalues"
   ]
  },
  {
   "cell_type": "code",
   "execution_count": 8,
   "id": "60f588fd-596c-4bf6-b30c-8ea63f267d77",
   "metadata": {},
   "outputs": [
    {
     "data": {
      "text/plain": [
       "matrix([[-3.85434652e-01, -3.91477495e-01, -2.56089948e-01,\n",
       "          5.53608544e-01,  4.29190282e-01,  3.76718357e-01,\n",
       "          2.42609259e-17],\n",
       "        [-3.52745886e-01,  5.66477542e-01,  4.17471510e-03,\n",
       "         -9.56048335e-02, -2.30445419e-01,  6.33641570e-01,\n",
       "         -3.01511345e-01],\n",
       "        [-2.49438203e-01, -3.82289811e-01,  3.25807173e-01,\n",
       "         -1.38499291e-01, -4.61930743e-01,  2.98808200e-01,\n",
       "          6.03022689e-01],\n",
       "        [-2.96850991e-01,  7.00608526e-02, -2.49934573e-01,\n",
       "         -6.87659361e-01,  5.29793705e-01,  6.14954065e-03,\n",
       "          3.01511345e-01],\n",
       "        [-4.17038267e-01, -4.87986822e-01, -7.67233264e-02,\n",
       "         -3.12140752e-01, -2.64679767e-01, -2.25694229e-01,\n",
       "         -6.03022689e-01],\n",
       "        [-3.91095023e-01,  2.85022669e-01, -5.50951710e-01,\n",
       "          2.44771605e-01, -3.65737172e-01, -4.21512830e-01,\n",
       "          3.01511345e-01],\n",
       "        [-4.99794266e-01,  2.35426172e-01,  6.75535824e-01,\n",
       "          1.87015659e-01,  2.54578418e-01, -3.72352699e-01,\n",
       "         -1.29942951e-16]])"
      ]
     },
     "execution_count": 8,
     "metadata": {},
     "output_type": "execute_result"
    }
   ],
   "source": [
    "_, e_vectors = np.linalg.eig(A)\n",
    "e_vectors"
   ]
  },
  {
   "cell_type": "markdown",
   "id": "34c0c055-fc11-4a27-9851-372d36144aa4",
   "metadata": {},
   "source": [
    "## C) What is the acceptable lambda for running eigenvector centrality?"
   ]
  },
  {
   "cell_type": "markdown",
   "id": "804f5000-8a60-4ffc-a1c9-669827da81aa",
   "metadata": {},
   "source": [
    "For every x we have:<br>\n",
    "$$x=\\sum_{i=1}^n c_{i}. v_{i}$$<br>\n",
    "multiply it by A:<br>\n",
    "$$Ax=A\\sum_{i=1}^n c_{i}. v_{i}=\\sum_{i=1}^n c_{i}.(A v_{i})=\\sum_{i=1}^n c_{i}. (\\lambda_{i}v_{i})=\\sum_{i=1}^n \\lambda_{i}c_{i}.v_{i}$$\n",
    "<br>\n",
    "then:<br>\n",
    "$$A^kx=\\sum_{i=1}^n c_{i}.A^k v_{i}=\\sum_{i=1}^n c_{i}. \\lambda_{i} ^ k v_{i}=c_{1} \\lambda _{1}^k v_{1} + \\sum_{i=2}^n c_{i}. \\lambda_{i}^k  v_{i}= c_{1} \\lambda _{1}^k v_{1} + \\lambda_{1} ^ k  \\sum_{i=2}^n c_{i}. \\frac {\\lambda_{i}^k} {\\lambda_{1} ^k}  v_{i}$$ <br>\n",
    "Lambdas are sorted in descending order so $$\\frac {\\lambda_{i}^k} {\\lambda_{1} ^k}$$ converges to 0 then: $$ x ~= v_{1} $$"
   ]
  },
  {
   "cell_type": "code",
   "execution_count": null,
   "id": "d681a5eb-7983-4070-86d8-86dc77b6de63",
   "metadata": {},
   "outputs": [],
   "source": []
  }
 ],
 "metadata": {
  "kernelspec": {
   "display_name": "Python 3 (ipykernel)",
   "language": "python",
   "name": "python3"
  },
  "language_info": {
   "codemirror_mode": {
    "name": "ipython",
    "version": 3
   },
   "file_extension": ".py",
   "mimetype": "text/x-python",
   "name": "python",
   "nbconvert_exporter": "python",
   "pygments_lexer": "ipython3",
   "version": "3.9.7"
  }
 },
 "nbformat": 4,
 "nbformat_minor": 5
}
