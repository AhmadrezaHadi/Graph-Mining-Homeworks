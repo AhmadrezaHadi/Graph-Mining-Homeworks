{
 "cells": [
  {
   "cell_type": "markdown",
   "id": "53d2dcd8-b424-413f-bcaf-92ce1c3298d8",
   "metadata": {
    "tags": []
   },
   "source": [
    "# Extracting Node Features"
   ]
  },
  {
   "cell_type": "code",
   "execution_count": 1,
   "id": "85bec553-831b-4e35-88e8-02883c51ddca",
   "metadata": {},
   "outputs": [],
   "source": [
    "import numpy as np\n",
    "import networkx as nx\n",
    "import pandas as pd\n",
    "\n",
    "from ML import main"
   ]
  },
  {
   "cell_type": "code",
   "execution_count": 2,
   "id": "38cd47e4-ab5d-4cd1-953c-0700b12d07d7",
   "metadata": {},
   "outputs": [
    {
     "data": {
      "text/plain": [
       "'DiGraph with 819 nodes and 3539 edges'"
      ]
     },
     "execution_count": 2,
     "metadata": {},
     "output_type": "execute_result"
    }
   ],
   "source": [
    "G = nx.read_edgelist(\"soc-edges.txt\", create_using=nx.DiGraph(), nodetype=int)\n",
    "nx.info(G)"
   ]
  },
  {
   "cell_type": "code",
   "execution_count": 3,
   "id": "72a38a33-4e87-42dd-9f68-f98b88ffc3ab",
   "metadata": {},
   "outputs": [],
   "source": [
    "eig_centrality = nx.eigenvector_centrality(G, max_iter=300)\n",
    "clustering_coe = nx.clustering(G)\n",
    "square_clustering = nx.square_clustering(G)\n",
    "katz_centrality = nx.katz_centrality(G)\n",
    "betweenness_centrality = nx.betweenness_centrality(G)\n",
    "hits = nx.hits(G)\n",
    "degree = dict(G.degree)\n",
    "pagerank = nx.pagerank(G)"
   ]
  },
  {
   "cell_type": "code",
   "execution_count": 7,
   "id": "8ce639b1-1172-4bba-8ca4-a69c6175de74",
   "metadata": {},
   "outputs": [],
   "source": [
    "data = pd.DataFrame(list(G.nodes), columns=['node'])\n",
    "\n",
    "data['eigenvector centrality'] = data['node'].map(eig_centrality)\n",
    "# data['clustering coefficient'] = data['node'].map(clustering_coe)\n",
    "# data['betweenness centrality'] = data['node'].map(betweenness_centrality)\n",
    "# data['degree'] = data['node'].map(degree)\n",
    "data['pagerank'] = data['node'].map(pagerank)\n",
    "# data['hits 1'] = data['node'].map(hits[0])\n",
    "# data['hits 2'] = data['node'].map(hits[1])\n",
    "data['square clustering'] = data['node'].map(square_clustering)\n",
    "data['katz centrality'] = data['node'].map(katz_centrality)"
   ]
  },
  {
   "cell_type": "code",
   "execution_count": 5,
   "id": "718f0ca7-1b22-40b7-8c4c-34ca6ee3bcc2",
   "metadata": {},
   "outputs": [
    {
     "data": {
      "text/html": [
       "<div>\n",
       "<style scoped>\n",
       "    .dataframe tbody tr th:only-of-type {\n",
       "        vertical-align: middle;\n",
       "    }\n",
       "\n",
       "    .dataframe tbody tr th {\n",
       "        vertical-align: top;\n",
       "    }\n",
       "\n",
       "    .dataframe thead th {\n",
       "        text-align: right;\n",
       "    }\n",
       "</style>\n",
       "<table border=\"1\" class=\"dataframe\">\n",
       "  <thead>\n",
       "    <tr style=\"text-align: right;\">\n",
       "      <th></th>\n",
       "      <th>node</th>\n",
       "      <th>eigenvector centrality</th>\n",
       "      <th>pagerank</th>\n",
       "      <th>square clustering</th>\n",
       "      <th>katz centrality</th>\n",
       "    </tr>\n",
       "  </thead>\n",
       "  <tbody>\n",
       "    <tr>\n",
       "      <th>0</th>\n",
       "      <td>0</td>\n",
       "      <td>1.361114e-106</td>\n",
       "      <td>0.000603</td>\n",
       "      <td>0.042718</td>\n",
       "      <td>0.008530</td>\n",
       "    </tr>\n",
       "    <tr>\n",
       "      <th>1</th>\n",
       "      <td>276</td>\n",
       "      <td>6.931597e-17</td>\n",
       "      <td>0.000761</td>\n",
       "      <td>0.177570</td>\n",
       "      <td>0.010425</td>\n",
       "    </tr>\n",
       "    <tr>\n",
       "      <th>2</th>\n",
       "      <td>58</td>\n",
       "      <td>4.056120e-104</td>\n",
       "      <td>0.000689</td>\n",
       "      <td>0.140902</td>\n",
       "      <td>0.009383</td>\n",
       "    </tr>\n",
       "    <tr>\n",
       "      <th>3</th>\n",
       "      <td>132</td>\n",
       "      <td>4.056120e-104</td>\n",
       "      <td>0.000689</td>\n",
       "      <td>0.000000</td>\n",
       "      <td>0.009383</td>\n",
       "    </tr>\n",
       "    <tr>\n",
       "      <th>4</th>\n",
       "      <td>603</td>\n",
       "      <td>6.063900e-102</td>\n",
       "      <td>0.000722</td>\n",
       "      <td>0.069745</td>\n",
       "      <td>0.010321</td>\n",
       "    </tr>\n",
       "    <tr>\n",
       "      <th>...</th>\n",
       "      <td>...</td>\n",
       "      <td>...</td>\n",
       "      <td>...</td>\n",
       "      <td>...</td>\n",
       "      <td>...</td>\n",
       "    </tr>\n",
       "    <tr>\n",
       "      <th>814</th>\n",
       "      <td>542</td>\n",
       "      <td>1.131574e-10</td>\n",
       "      <td>0.004439</td>\n",
       "      <td>0.000000</td>\n",
       "      <td>0.010260</td>\n",
       "    </tr>\n",
       "    <tr>\n",
       "      <th>815</th>\n",
       "      <td>367</td>\n",
       "      <td>6.030489e-14</td>\n",
       "      <td>0.002129</td>\n",
       "      <td>0.000000</td>\n",
       "      <td>0.009573</td>\n",
       "    </tr>\n",
       "    <tr>\n",
       "      <th>816</th>\n",
       "      <td>77</td>\n",
       "      <td>2.577788e-96</td>\n",
       "      <td>0.001530</td>\n",
       "      <td>0.000000</td>\n",
       "      <td>0.009478</td>\n",
       "    </tr>\n",
       "    <tr>\n",
       "      <th>817</th>\n",
       "      <td>492</td>\n",
       "      <td>6.843426e-04</td>\n",
       "      <td>0.001721</td>\n",
       "      <td>0.000000</td>\n",
       "      <td>0.009485</td>\n",
       "    </tr>\n",
       "    <tr>\n",
       "      <th>818</th>\n",
       "      <td>231</td>\n",
       "      <td>1.361114e-106</td>\n",
       "      <td>0.000603</td>\n",
       "      <td>0.000000</td>\n",
       "      <td>0.008530</td>\n",
       "    </tr>\n",
       "  </tbody>\n",
       "</table>\n",
       "<p>819 rows × 5 columns</p>\n",
       "</div>"
      ],
      "text/plain": [
       "     node  eigenvector centrality  pagerank  square clustering  \\\n",
       "0       0           1.361114e-106  0.000603           0.042718   \n",
       "1     276            6.931597e-17  0.000761           0.177570   \n",
       "2      58           4.056120e-104  0.000689           0.140902   \n",
       "3     132           4.056120e-104  0.000689           0.000000   \n",
       "4     603           6.063900e-102  0.000722           0.069745   \n",
       "..    ...                     ...       ...                ...   \n",
       "814   542            1.131574e-10  0.004439           0.000000   \n",
       "815   367            6.030489e-14  0.002129           0.000000   \n",
       "816    77            2.577788e-96  0.001530           0.000000   \n",
       "817   492            6.843426e-04  0.001721           0.000000   \n",
       "818   231           1.361114e-106  0.000603           0.000000   \n",
       "\n",
       "     katz centrality  \n",
       "0           0.008530  \n",
       "1           0.010425  \n",
       "2           0.009383  \n",
       "3           0.009383  \n",
       "4           0.010321  \n",
       "..               ...  \n",
       "814         0.010260  \n",
       "815         0.009573  \n",
       "816         0.009478  \n",
       "817         0.009485  \n",
       "818         0.008530  \n",
       "\n",
       "[819 rows x 5 columns]"
      ]
     },
     "execution_count": 5,
     "metadata": {},
     "output_type": "execute_result"
    }
   ],
   "source": [
    "data"
   ]
  },
  {
   "cell_type": "code",
   "execution_count": 6,
   "id": "ea63f0c7-3ad2-4447-a5c0-6929a470d3ea",
   "metadata": {},
   "outputs": [
    {
     "name": "stdout",
     "output_type": "stream",
     "text": [
      "Accuracy:  0.88\n"
     ]
    }
   ],
   "source": [
    "main(data)"
   ]
  }
 ],
 "metadata": {
  "kernelspec": {
   "display_name": "Python 3 (ipykernel)",
   "language": "python",
   "name": "python3"
  },
  "language_info": {
   "codemirror_mode": {
    "name": "ipython",
    "version": 3
   },
   "file_extension": ".py",
   "mimetype": "text/x-python",
   "name": "python",
   "nbconvert_exporter": "python",
   "pygments_lexer": "ipython3",
   "version": "3.9.7"
  }
 },
 "nbformat": 4,
 "nbformat_minor": 5
}
