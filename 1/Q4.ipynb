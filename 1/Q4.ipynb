{
 "cells": [
  {
   "cell_type": "markdown",
   "id": "4ae9b955-0ea2-423c-9b1e-bc567e0652b0",
   "metadata": {},
   "source": [
    "# Question 4\n",
    "**Present an efficient algorithm for finding <i>[Node Betweenness Centrality](https://en.wikipedia.org/wiki/Betweenness_centrality)</i>**"
   ]
  },
  {
   "cell_type": "code",
   "execution_count": 1,
   "id": "9c8b7ed9-ce05-40e4-bc50-d881d317d8b2",
   "metadata": {},
   "outputs": [],
   "source": [
    "import networkx as nx\n",
    "import numpy as np"
   ]
  },
  {
   "cell_type": "code",
   "execution_count": 2,
   "id": "c6098759-e810-466d-b603-772fcfc4f8f1",
   "metadata": {},
   "outputs": [],
   "source": [
    "G = nx.Graph()\n",
    "\n",
    "\n",
    "nx.add_path(G, [1, 2, 3, 4, 5, 6, 7, 8, 1])\n",
    "nx.add_path(G, [2, 5, 11])\n",
    "nx.add_path(G, [9, 2, 10])\n",
    "nx.add_path(G, [3, 12])\n",
    "nx.add_path(G, [2, 7])\n",
    "nx.add_path(G, [6, 13, 14])\n",
    "# nx.add_path(G, [0, 10, 2])\n",
    "# print([p for p in nx.all_shortest_paths(G, source=0, target=2)])\n"
   ]
  },
  {
   "cell_type": "code",
   "execution_count": 33,
   "id": "6a0da9f7-bfa1-43ed-a2d3-36ddc4d27bc5",
   "metadata": {},
   "outputs": [
    {
     "data": {
      "image/png": "[encoded data removed]",
      "text/plain": [
       "<Figure size 432x288 with 1 Axes>"
      ]
     },
     "metadata": {},
     "output_type": "display_data"
    }
   ],
   "source": [
    "nx.draw(G, with_labels=True)"
   ]
  },
  {
   "cell_type": "code",
   "execution_count": null,
   "id": "00867020-ac89-4b85-9e8c-b4ec83447e33",
   "metadata": {},
   "outputs": [],
   "source": []
  },
  {
   "cell_type": "code",
   "execution_count": null,
   "id": "75cd1427-8cb3-4fad-9933-c81b29578b14",
   "metadata": {},
   "outputs": [],
   "source": []
  },
  {
   "cell_type": "markdown",
   "id": "a4b55a6f-bf13-4e33-9df8-33ae2c0f4ff9",
   "metadata": {},
   "source": [
    "**Algorithm:**<br>\n",
    "For every **$i$** and <b>$j$</b> node in graph we find all shortest paths between them, we know that if $[i, z, k, p, j]$ is a path then one of the shortest paths from $z$ to $p$ is also $[z, k,p]$, we have a list of paths called `checked_paths` with contains all the paths that we have currently passed and modified <i>Betweenness Centrality</i> for that node.<br>\n",
    "> for each path from $i$ to $j$:\n",
    "> **A.** modify `BC` for every node in path;<br>\n",
    "> **B.** while path.len > 1 <br>\n",
    "> **C.** path.pop_left()<br>\n",
    "> **D.** path.pop_right()<br>"
   ]
  },
  {
   "cell_type": "code",
   "execution_count": 45,
   "id": "04b705a6-24c1-492a-94b3-0c78ad5426c9",
   "metadata": {},
   "outputs": [
    {
     "name": "stdout",
     "output_type": "stream",
     "text": [
      "Betweenness Centrality of Node 1: 9.0 without normalization\n",
      "Betweenness Centrality of Node 2: 80.0 without normalization\n",
      "Betweenness Centrality of Node 3: 28.0 without normalization\n",
      "Betweenness Centrality of Node 4: 10.0 without normalization\n",
      "Betweenness Centrality of Node 5: 53.0 without normalization\n",
      "Betweenness Centrality of Node 6: 46.0 without normalization\n",
      "Betweenness Centrality of Node 7: 36.0 without normalization\n",
      "Betweenness Centrality of Node 8: 4.0 without normalization\n",
      "Betweenness Centrality of Node 9: 0.0 without normalization\n",
      "Betweenness Centrality of Node 10: 0.0 without normalization\n",
      "Betweenness Centrality of Node 11: 0.0 without normalization\n",
      "Betweenness Centrality of Node 12: 0.0 without normalization\n",
      "Betweenness Centrality of Node 13: 21.0 without normalization\n",
      "Betweenness Centrality of Node 14: 0.0 without normalization\n"
     ]
    }
   ],
   "source": [
    "checked_paths = []\n",
    "BC = np.zeros((G.number_of_nodes(),1))\n",
    "for i in G.nodes():\n",
    "    for j in reversed(list(G.nodes())):\n",
    "        if j==i:\n",
    "            break\n",
    "        shortest_paths_from_i_to_j = [p for p in nx.all_shortest_paths(G, source=i, target=j)]\n",
    "        while shortest_paths_from_i_to_j:\n",
    "            path = shortest_paths_from_i_to_j.pop()\n",
    "            while len(path) > 1:\n",
    "                if path in checked_paths or list(reversed(path)) in checked_paths:\n",
    "                    path = path[1:-1]\n",
    "                    continue\n",
    "                checked_paths.append(path)\n",
    "                for v in path[1:-1]:\n",
    "                    BC[v-1] += 1\n",
    "                path = path[1:-1]\n",
    "                    \n",
    "            \n",
    "            \n",
    "for i,j in enumerate(BC):\n",
    "    print(f\"Betweenness Centrality of Node {i+1}: {j.item()} without normalization\")"
   ]
  },
  {
   "cell_type": "markdown",
   "id": "fbf9a10c-1f0a-48f6-8be0-f99de218a857",
   "metadata": {},
   "source": [
    "There is another Algorithm called <i>**[Brandes Method]** (https://www.tandfonline.com/doi/abs/10.1080/0022250X.2001.9990249)</i> which finds betweenness centrality of graph:"
   ]
  },
  {
   "cell_type": "code",
   "execution_count": 48,
   "id": "cd923caa-54f7-4da4-a075-ae8f2f38bcc3",
   "metadata": {},
   "outputs": [
    {
     "data": {
      "text/plain": [
       "{1: 0.045726495726495724,\n",
       " 2: 0.5679487179487179,\n",
       " 3: 0.18888888888888888,\n",
       " 4: 0.05128205128205128,\n",
       " 5: 0.35598290598290594,\n",
       " 6: 0.3102564102564102,\n",
       " 7: 0.20427350427350424,\n",
       " 8: 0.019230769230769232,\n",
       " 11: 0.0,\n",
       " 9: 0.0,\n",
       " 10: 0.0,\n",
       " 12: 0.0,\n",
       " 13: 0.15384615384615385,\n",
       " 14: 0.0}"
      ]
     },
     "execution_count": 48,
     "metadata": {},
     "output_type": "execute_result"
    }
   ],
   "source": [
    "nx.betweenness_centrality(G, normalized=True)"
   ]
  },
  {
   "cell_type": "code",
   "execution_count": null,
   "id": "8eeaec1d-41ad-44ed-84c9-7d30c9e53de8",
   "metadata": {},
   "outputs": [],
   "source": [
    "\n"
   ]
  },
  {
   "cell_type": "code",
   "execution_count": null,
   "id": "3a87100d-83bf-42b4-8401-39ff57e90f88",
   "metadata": {},
   "outputs": [],
   "source": []
  }
 ],
 "metadata": {
  "kernelspec": {
   "display_name": "Python 3 (ipykernel)",
   "language": "python",
   "name": "python3"
  },
  "language_info": {
   "codemirror_mode": {
    "name": "ipython",
    "version": 3
   },
   "file_extension": ".py",
   "mimetype": "text/x-python",
   "name": "python",
   "nbconvert_exporter": "python",
   "pygments_lexer": "ipython3",
   "version": "3.9.7"
  }
 },
 "nbformat": 4,
 "nbformat_minor": 5
}
