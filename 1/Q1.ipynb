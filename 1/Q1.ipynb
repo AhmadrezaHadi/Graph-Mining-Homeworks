{
 "cells": [
  {
   "cell_type": "code",
   "execution_count": 1,
   "id": "7760abd0-bfeb-491d-8691-1b3daa38fc31",
   "metadata": {},
   "outputs": [],
   "source": [
    "import networkx as nx\n",
    "import numpy as np\n",
    "from sympy import symbols, Matrix, solve"
   ]
  },
  {
   "cell_type": "markdown",
   "id": "f0858a1d-8045-41ff-9526-af28e4acf2c4",
   "metadata": {
    "tags": []
   },
   "source": [
    "# First Question:\n",
    "Consider graph below: <br>\n",
    "<img src=\"images/1.png\" alt=\"drawing\" width=\"300\"/> <br>\n"
   ]
  },
  {
   "cell_type": "code",
   "execution_count": 20,
   "id": "ea0fa424-07c1-4e2b-811c-f7abbac9e15a",
   "metadata": {},
   "outputs": [
    {
     "data": {
      "image/png": "[encoded data removed]",
      "text/plain": [
       "<Figure size 432x288 with 1 Axes>"
      ]
     },
     "metadata": {},
     "output_type": "display_data"
    }
   ],
   "source": [
    "G = nx.Graph()\n",
    "G.add_nodes_from([i for i in range(1,8)])\n",
    "G.add_edges_from([(1,2), (2,3), (3,6), (2,5), (1,7), (1,4), (4,7), (6,7), (5,7), (5,6)])\n",
    "nx.draw(G, with_labels=True)"
   ]
  },
  {
   "cell_type": "markdown",
   "id": "1bfa4922-240b-492b-835a-5a7533d4c082",
   "metadata": {},
   "source": [
    "## A) Find adjacency matrix of graph:"
   ]
  },
  {
   "cell_type": "code",
   "execution_count": 16,
   "id": "6fac8989-7282-4406-a409-20dbabbadea0",
   "metadata": {},
   "outputs": [
    {
     "data": {
      "text/latex": [
       "$\\displaystyle \\left[\\begin{matrix}0 & 1 & 0 & 1 & 0 & 0 & 1\\\\1 & 0 & 1 & 0 & 1 & 0 & 0\\\\0 & 1 & 0 & 0 & 0 & 1 & 0\\\\1 & 0 & 0 & 0 & 0 & 0 & 1\\\\0 & 1 & 0 & 0 & 0 & 1 & 1\\\\0 & 0 & 1 & 0 & 1 & 0 & 1\\\\1 & 0 & 0 & 1 & 1 & 1 & 0\\end{matrix}\\right]$"
      ],
      "text/plain": [
       "Matrix([\n",
       "[0, 1, 0, 1, 0, 0, 1],\n",
       "[1, 0, 1, 0, 1, 0, 0],\n",
       "[0, 1, 0, 0, 0, 1, 0],\n",
       "[1, 0, 0, 0, 0, 0, 1],\n",
       "[0, 1, 0, 0, 0, 1, 1],\n",
       "[0, 0, 1, 0, 1, 0, 1],\n",
       "[1, 0, 0, 1, 1, 1, 0]])"
      ]
     },
     "execution_count": 16,
     "metadata": {},
     "output_type": "execute_result"
    }
   ],
   "source": [
    "A = nx.adjacency_matrix(G).todense()\n",
    "Matrix(A)"
   ]
  },
  {
   "cell_type": "markdown",
   "id": "b3e75659-a51d-41fb-b1f8-4d4228ba7d46",
   "metadata": {
    "tags": []
   },
   "source": [
    "## B) Find eigenvalues and eigenvectors corresponding to adjacency matrix:"
   ]
  },
  {
   "cell_type": "code",
   "execution_count": 6,
   "id": "e57a1115-0928-4424-ac3a-312341d39249",
   "metadata": {},
   "outputs": [
    {
     "data": {
      "text/latex": [
       "$\\displaystyle - 1.0 L^{7} + 10.0 L^{5} + 4.0 L^{4} - 21.0 L^{3} - 6.0 L^{2} + 11.0 L$"
      ],
      "text/plain": [
       "-1.0*L**7 + 10.0*L**5 + 4.0*L**4 - 21.0*L**3 - 6.0*L**2 + 11.0*L"
      ]
     },
     "execution_count": 6,
     "metadata": {},
     "output_type": "execute_result"
    }
   ],
   "source": [
    "Lambda, = symbols(['L'])\n",
    "I = np.identity(7)\n",
    "B = Matrix(A - Lambda*I)\n",
    "B.det()"
   ]
  },
  {
   "cell_type": "code",
   "execution_count": 11,
   "id": "c3086f13-31d0-4ca9-ae21-68fa803c69c9",
   "metadata": {},
   "outputs": [
    {
     "data": {
      "text/plain": [
       "[-2.22736831208456,\n",
       " -1.67822270590098,\n",
       " -1.07702191696139,\n",
       " 0.0,\n",
       " 0.709916061304175,\n",
       " 1.29063198286390,\n",
       " 2.98206489077886]"
      ]
     },
     "execution_count": 11,
     "metadata": {},
     "output_type": "execute_result"
    }
   ],
   "source": [
    "eigenvalues = solve(B.det())\n",
    "eigenvalues"
   ]
  },
  {
   "cell_type": "code",
   "execution_count": 18,
   "id": "60f588fd-596c-4bf6-b30c-8ea63f267d77",
   "metadata": {},
   "outputs": [
    {
     "name": "stdout",
     "output_type": "stream",
     "text": [
      "[[0 -2.22736831208456 0 -2.22736831208456 0 0 -2.22736831208456]]\n",
      "[[-2.22736831208456 0 -2.22736831208456 0 -2.22736831208456 0 0]]\n",
      "[[0 -2.22736831208456 0 0 0 -2.22736831208456 0]]\n",
      "[[-2.22736831208456 0 0 0 0 0 -2.22736831208456]]\n",
      "[[0 -2.22736831208456 0 0 0 -2.22736831208456 -2.22736831208456]]\n",
      "[[0 0 -2.22736831208456 0 -2.22736831208456 0 -2.22736831208456]]\n",
      "[[-2.22736831208456 0 0 -2.22736831208456 -2.22736831208456\n",
      "  -2.22736831208456 0]]\n",
      "[[0 -1.67822270590098 0 -1.67822270590098 0 0 -1.67822270590098]]\n",
      "[[-1.67822270590098 0 -1.67822270590098 0 -1.67822270590098 0 0]]\n",
      "[[0 -1.67822270590098 0 0 0 -1.67822270590098 0]]\n",
      "[[-1.67822270590098 0 0 0 0 0 -1.67822270590098]]\n",
      "[[0 -1.67822270590098 0 0 0 -1.67822270590098 -1.67822270590098]]\n",
      "[[0 0 -1.67822270590098 0 -1.67822270590098 0 -1.67822270590098]]\n",
      "[[-1.67822270590098 0 0 -1.67822270590098 -1.67822270590098\n",
      "  -1.67822270590098 0]]\n",
      "[[0 -1.07702191696139 0 -1.07702191696139 0 0 -1.07702191696139]]\n",
      "[[-1.07702191696139 0 -1.07702191696139 0 -1.07702191696139 0 0]]\n",
      "[[0 -1.07702191696139 0 0 0 -1.07702191696139 0]]\n",
      "[[-1.07702191696139 0 0 0 0 0 -1.07702191696139]]\n",
      "[[0 -1.07702191696139 0 0 0 -1.07702191696139 -1.07702191696139]]\n",
      "[[0 0 -1.07702191696139 0 -1.07702191696139 0 -1.07702191696139]]\n",
      "[[-1.07702191696139 0 0 -1.07702191696139 -1.07702191696139\n",
      "  -1.07702191696139 0]]\n",
      "[[0 0.0 0 0.0 0 0 0.0]]\n",
      "[[0.0 0 0.0 0 0.0 0 0]]\n",
      "[[0 0.0 0 0 0 0.0 0]]\n",
      "[[0.0 0 0 0 0 0 0.0]]\n",
      "[[0 0.0 0 0 0 0.0 0.0]]\n",
      "[[0 0 0.0 0 0.0 0 0.0]]\n",
      "[[0.0 0 0 0.0 0.0 0.0 0]]\n",
      "[[0 0.709916061304175 0 0.709916061304175 0 0 0.709916061304175]]\n",
      "[[0.709916061304175 0 0.709916061304175 0 0.709916061304175 0 0]]\n",
      "[[0 0.709916061304175 0 0 0 0.709916061304175 0]]\n",
      "[[0.709916061304175 0 0 0 0 0 0.709916061304175]]\n",
      "[[0 0.709916061304175 0 0 0 0.709916061304175 0.709916061304175]]\n",
      "[[0 0 0.709916061304175 0 0.709916061304175 0 0.709916061304175]]\n",
      "[[0.709916061304175 0 0 0.709916061304175 0.709916061304175\n",
      "  0.709916061304175 0]]\n",
      "[[0 1.29063198286390 0 1.29063198286390 0 0 1.29063198286390]]\n",
      "[[1.29063198286390 0 1.29063198286390 0 1.29063198286390 0 0]]\n",
      "[[0 1.29063198286390 0 0 0 1.29063198286390 0]]\n",
      "[[1.29063198286390 0 0 0 0 0 1.29063198286390]]\n",
      "[[0 1.29063198286390 0 0 0 1.29063198286390 1.29063198286390]]\n",
      "[[0 0 1.29063198286390 0 1.29063198286390 0 1.29063198286390]]\n",
      "[[1.29063198286390 0 0 1.29063198286390 1.29063198286390 1.29063198286390\n",
      "  0]]\n",
      "[[0 2.98206489077886 0 2.98206489077886 0 0 2.98206489077886]]\n",
      "[[2.98206489077886 0 2.98206489077886 0 2.98206489077886 0 0]]\n",
      "[[0 2.98206489077886 0 0 0 2.98206489077886 0]]\n",
      "[[2.98206489077886 0 0 0 0 0 2.98206489077886]]\n",
      "[[0 2.98206489077886 0 0 0 2.98206489077886 2.98206489077886]]\n",
      "[[0 0 2.98206489077886 0 2.98206489077886 0 2.98206489077886]]\n",
      "[[2.98206489077886 0 0 2.98206489077886 2.98206489077886 2.98206489077886\n",
      "  0]]\n"
     ]
    }
   ],
   "source": [
    "for ev in eigenvalues:\n",
    "    temp = A*ev\n",
    "    for row in temp:\n",
    "        print(row)"
   ]
  },
  {
   "cell_type": "code",
   "execution_count": 38,
   "id": "893eb621-a528-4161-9f86-d440beeecf1d",
   "metadata": {},
   "outputs": [
    {
     "data": {
      "text/plain": [
       "array([[ 0.],\n",
       "       [ 0.],\n",
       "       [ 0.],\n",
       "       [ 0.],\n",
       "       [ 0.],\n",
       "       [-0.],\n",
       "       [-0.]])"
      ]
     },
     "execution_count": 38,
     "metadata": {},
     "output_type": "execute_result"
    }
   ],
   "source": [
    "a = np.matrix((A - eigenvalues[0]*I), dtype=np.float64)\n",
    "b = np.zeros((7,1), dtype=np.int32)\n",
    "x = np.linalg.solve(gii, np.zeros((7,1)))\n",
    "x"
   ]
  },
  {
   "cell_type": "code",
   "execution_count": null,
   "id": "b6f917bb-0033-4e42-8648-da0fd3666889",
   "metadata": {},
   "outputs": [],
   "source": []
  }
 ],
 "metadata": {
  "kernelspec": {
   "display_name": "Python 3 (ipykernel)",
   "language": "python",
   "name": "python3"
  },
  "language_info": {
   "codemirror_mode": {
    "name": "ipython",
    "version": 3
   },
   "file_extension": ".py",
   "mimetype": "text/x-python",
   "name": "python",
   "nbconvert_exporter": "python",
   "pygments_lexer": "ipython3",
   "version": "3.9.7"
  }
 },
 "nbformat": 4,
 "nbformat_minor": 5
}
